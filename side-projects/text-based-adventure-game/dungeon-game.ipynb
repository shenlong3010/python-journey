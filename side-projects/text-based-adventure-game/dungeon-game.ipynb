{
 "cells": [
  {
   "cell_type": "code",
   "execution_count": 1,
   "metadata": {},
   "outputs": [],
   "source": [
    "# Text based adventure game"
   ]
  },
  {
   "cell_type": "code",
   "execution_count": 2,
   "metadata": {},
   "outputs": [
    {
     "name": "stdout",
     "output_type": "stream",
     "text": [
      "What is your name? Loc\n",
      "What is your age? 18\n"
     ]
    }
   ],
   "source": [
    "name = input(\"What is your name? \")\n",
    "age = int(input(\"What is your age? \"))"
   ]
  },
  {
   "cell_type": "code",
   "execution_count": 3,
   "metadata": {},
   "outputs": [
    {
     "name": "stdout",
     "output_type": "stream",
     "text": [
      "Just checking, what is Pi? (enter 3.14) 3.14\n"
     ]
    }
   ],
   "source": [
    "import sys\n",
    "checking = float(input(\"Just checking, what is Pi? (enter 3.14) \")) # math.pi = 3.141592653589793\n",
    "if checking != 3.14:\n",
    "    sys.exit()\n",
    "else:\n",
    "    True"
   ]
  },
  {
   "cell_type": "code",
   "execution_count": 4,
   "metadata": {},
   "outputs": [
    {
     "name": "stdout",
     "output_type": "stream",
     "text": [
      "You are not robot, keep going\n"
     ]
    }
   ],
   "source": [
    "print(\"You are not robot, keep going\")"
   ]
  },
  {
   "cell_type": "code",
   "execution_count": 5,
   "metadata": {},
   "outputs": [
    {
     "name": "stdout",
     "output_type": "stream",
     "text": [
      "Choose a number from 1 - 5 1\n",
      "You have chose 1, very good\n",
      "You shall pass\n"
     ]
    }
   ],
   "source": [
    "lst = [i for i in range(1, 6)]\n",
    "passed = False\n",
    "while not passed:\n",
    "    choice = int(input(\"Choose a number from 1 - 5 \"))\n",
    "    print(f\"You have chose {choice}, very good\")\n",
    "\n",
    "    if choice == lst[0]:\n",
    "        print(\"You shall pass\")\n",
    "        passed = True\n",
    "        break\n",
    "\n",
    "    else:\n",
    "        print(\"You shall not pass\")\n",
    "        continue"
   ]
  },
  {
   "cell_type": "code",
   "execution_count": 3,
   "metadata": {},
   "outputs": [
    {
     "name": "stderr",
     "output_type": "stream",
     "text": [
      "UsageError: Unknown variable 'dungeon_map()'\n"
     ]
    }
   ],
   "source": [
    "import random, time\n",
    "\n",
    "def dungeon_map():\n",
    "    dragon_health = 100\n",
    "    player_health = 50\n",
    "    prizes = random.choice([\"fish\", \"wifu\", \"everything\"])\n",
    "    \n",
    "    move = (\"What your next move? (straight, left, right, or go back)\")\n",
    "    if move != directions[:-1]:\n",
    "        print(\"You have encountered dragon, kill it\")\n",
    "        time.sleep(2)\n",
    "        dragon_health -= random.randint(1, 100)\n",
    "        if dragon_health < player_health:\n",
    "            print(f\"Dragon health is {dragon_health} < your health {player_health}. You win {prizes} and finish the game\")\n",
    "        else:\n",
    "            print(f\"Dragon health is {dragon_health} > your health {player_health}\")\n",
    "            print(\"You are Dead\")\n",
    "            again = input(\"Restart? T or F \")\n",
    "            if (again == 't'.upper()) or (again == 'f'.upper()):\n",
    "                print(\"No more choices\")\n",
    "                \n",
    "    else:\n",
    "        print(\"We will go back then\")\n",
    "        return\n"
   ]
  },
  {
   "cell_type": "code",
   "execution_count": 1,
   "metadata": {},
   "outputs": [
    {
     "name": "stdout",
     "output_type": "stream",
     "text": [
      "What direction do you want to go? (straight, left, right, or go back) straight\n",
      "You want to straight\n",
      "Good choice, we shall go with your gut then\n",
      "Stored 'your_actual_move' (str)\n",
      "Stored 'move' (str)\n",
      "Stored 'directions' (tuple)\n"
     ]
    }
   ],
   "source": [
    "directions = ('straight', 'left', 'right', 'go back')\n",
    "move = input(\"What direction do you want to go? (straight, left, right, or go back) \")\n",
    "your_actual_move = ''\n",
    "for i in random.choice(directions):\n",
    "    your_actual_move += i\n",
    "    \n",
    "print(f\"You want to {your_actual_move}\")   \n",
    "print(\"Good choice, we shall go with your gut then\")\n",
    "%store your_actual_move\n",
    "%store move\n",
    "%store directions"
   ]
  },
  {
   "cell_type": "code",
   "execution_count": null,
   "metadata": {},
   "outputs": [],
   "source": []
  }
 ],
 "metadata": {
  "kernelspec": {
   "display_name": "Python 3",
   "language": "python",
   "name": "python3"
  },
  "language_info": {
   "codemirror_mode": {
    "name": "ipython",
    "version": 3
   },
   "file_extension": ".py",
   "mimetype": "text/x-python",
   "name": "python",
   "nbconvert_exporter": "python",
   "pygments_lexer": "ipython3",
   "version": "3.8.5"
  }
 },
 "nbformat": 4,
 "nbformat_minor": 4
}
